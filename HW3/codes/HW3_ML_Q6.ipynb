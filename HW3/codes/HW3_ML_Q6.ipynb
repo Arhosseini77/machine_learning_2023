{
  "nbformat": 4,
  "nbformat_minor": 0,
  "metadata": {
    "colab": {
      "provenance": []
    },
    "kernelspec": {
      "name": "python3",
      "display_name": "Python 3"
    },
    "language_info": {
      "name": "python"
    }
  },
  "cells": [
    {
      "cell_type": "markdown",
      "source": [
        "**Import Libraries**"
      ],
      "metadata": {
        "id": "SJNaid-TbGxs"
      }
    },
    {
      "cell_type": "code",
      "source": [
        "import pandas as pd\n",
        "import numpy as np\n",
        "import matplotlib.pyplot as plt\n",
        "import tensorflow as tf\n",
        "from sklearn.preprocessing import StandardScaler\n",
        "from sklearn.model_selection import train_test_split\n",
        "from sklearn.metrics import precision_score, recall_score, f1_score, confusion_matrix"
      ],
      "metadata": {
        "id": "8p20hZzybJbu"
      },
      "execution_count": 1,
      "outputs": []
    },
    {
      "cell_type": "markdown",
      "source": [
        "**Read EEG.csv file**"
      ],
      "metadata": {
        "id": "B3lxGyLJbKqb"
      }
    },
    {
      "cell_type": "code",
      "source": [
        "df = pd.read_csv('ECG.csv')\n",
        "df.head()"
      ],
      "metadata": {
        "colab": {
          "base_uri": "https://localhost:8080/",
          "height": 317
        },
        "id": "bpDJUBtTdYjl",
        "outputId": "959d3ae7-e44a-43af-b57d-5b4c839366b1"
      },
      "execution_count": 2,
      "outputs": [
        {
          "output_type": "execute_result",
          "data": {
            "text/plain": [
              "   Unnamed: 0 label  feat1       feat2       feat3      feat4       feat5  \\\n",
              "0           0     O      5  661.190476  658.333333  55.278736  106.962730   \n",
              "1           1     O      5  661.666667  658.333333  56.579873  108.407273   \n",
              "2           2     O      8  661.904762  660.000000  58.758004  112.796617   \n",
              "3           3     O      7  660.952381  663.333333  59.029597  113.649634   \n",
              "4           4     O      5  660.476191  663.333333  55.759820  107.623910   \n",
              "\n",
              "        feat6  feat7     feat8  ...   feat160  feat161   feat162   feat163  \\\n",
              "0  111.113889     13  0.928571  ...  0.165551    0.196  0.321645  0.074160   \n",
              "1  112.510209     13  0.928571  ...  0.190431    0.196  0.362420  0.085271   \n",
              "2  117.091412     13  0.928571  ...  0.094497    0.316  0.376645  0.042448   \n",
              "3  117.981601     13  0.928571  ...  0.157149    0.284  0.419043  0.070674   \n",
              "4  111.732026     13  0.928571  ...  0.162662    0.204  0.354123  0.072988   \n",
              "\n",
              "    feat164   feat165   feat166   feat167  feat168  feat169  \n",
              "0  0.000000  0.000000  0.000000  0.019540    0.340    0.000  \n",
              "1  0.000000  0.000000  0.000000  0.022238    0.332    0.000  \n",
              "2  0.000000  0.000000  0.000000  0.023166    0.452    0.000  \n",
              "3  0.026236  0.015264  0.594278  0.025686    0.256    0.128  \n",
              "4  0.025833  0.014326  0.657085  0.021802    0.328    0.128  \n",
              "\n",
              "[5 rows x 171 columns]"
            ],
            "text/html": [
              "\n",
              "  <div id=\"df-c12717ff-cf06-4e8e-96d9-4cf942f151c6\">\n",
              "    <div class=\"colab-df-container\">\n",
              "      <div>\n",
              "<style scoped>\n",
              "    .dataframe tbody tr th:only-of-type {\n",
              "        vertical-align: middle;\n",
              "    }\n",
              "\n",
              "    .dataframe tbody tr th {\n",
              "        vertical-align: top;\n",
              "    }\n",
              "\n",
              "    .dataframe thead th {\n",
              "        text-align: right;\n",
              "    }\n",
              "</style>\n",
              "<table border=\"1\" class=\"dataframe\">\n",
              "  <thead>\n",
              "    <tr style=\"text-align: right;\">\n",
              "      <th></th>\n",
              "      <th>Unnamed: 0</th>\n",
              "      <th>label</th>\n",
              "      <th>feat1</th>\n",
              "      <th>feat2</th>\n",
              "      <th>feat3</th>\n",
              "      <th>feat4</th>\n",
              "      <th>feat5</th>\n",
              "      <th>feat6</th>\n",
              "      <th>feat7</th>\n",
              "      <th>feat8</th>\n",
              "      <th>...</th>\n",
              "      <th>feat160</th>\n",
              "      <th>feat161</th>\n",
              "      <th>feat162</th>\n",
              "      <th>feat163</th>\n",
              "      <th>feat164</th>\n",
              "      <th>feat165</th>\n",
              "      <th>feat166</th>\n",
              "      <th>feat167</th>\n",
              "      <th>feat168</th>\n",
              "      <th>feat169</th>\n",
              "    </tr>\n",
              "  </thead>\n",
              "  <tbody>\n",
              "    <tr>\n",
              "      <th>0</th>\n",
              "      <td>0</td>\n",
              "      <td>O</td>\n",
              "      <td>5</td>\n",
              "      <td>661.190476</td>\n",
              "      <td>658.333333</td>\n",
              "      <td>55.278736</td>\n",
              "      <td>106.962730</td>\n",
              "      <td>111.113889</td>\n",
              "      <td>13</td>\n",
              "      <td>0.928571</td>\n",
              "      <td>...</td>\n",
              "      <td>0.165551</td>\n",
              "      <td>0.196</td>\n",
              "      <td>0.321645</td>\n",
              "      <td>0.074160</td>\n",
              "      <td>0.000000</td>\n",
              "      <td>0.000000</td>\n",
              "      <td>0.000000</td>\n",
              "      <td>0.019540</td>\n",
              "      <td>0.340</td>\n",
              "      <td>0.000</td>\n",
              "    </tr>\n",
              "    <tr>\n",
              "      <th>1</th>\n",
              "      <td>1</td>\n",
              "      <td>O</td>\n",
              "      <td>5</td>\n",
              "      <td>661.666667</td>\n",
              "      <td>658.333333</td>\n",
              "      <td>56.579873</td>\n",
              "      <td>108.407273</td>\n",
              "      <td>112.510209</td>\n",
              "      <td>13</td>\n",
              "      <td>0.928571</td>\n",
              "      <td>...</td>\n",
              "      <td>0.190431</td>\n",
              "      <td>0.196</td>\n",
              "      <td>0.362420</td>\n",
              "      <td>0.085271</td>\n",
              "      <td>0.000000</td>\n",
              "      <td>0.000000</td>\n",
              "      <td>0.000000</td>\n",
              "      <td>0.022238</td>\n",
              "      <td>0.332</td>\n",
              "      <td>0.000</td>\n",
              "    </tr>\n",
              "    <tr>\n",
              "      <th>2</th>\n",
              "      <td>2</td>\n",
              "      <td>O</td>\n",
              "      <td>8</td>\n",
              "      <td>661.904762</td>\n",
              "      <td>660.000000</td>\n",
              "      <td>58.758004</td>\n",
              "      <td>112.796617</td>\n",
              "      <td>117.091412</td>\n",
              "      <td>13</td>\n",
              "      <td>0.928571</td>\n",
              "      <td>...</td>\n",
              "      <td>0.094497</td>\n",
              "      <td>0.316</td>\n",
              "      <td>0.376645</td>\n",
              "      <td>0.042448</td>\n",
              "      <td>0.000000</td>\n",
              "      <td>0.000000</td>\n",
              "      <td>0.000000</td>\n",
              "      <td>0.023166</td>\n",
              "      <td>0.452</td>\n",
              "      <td>0.000</td>\n",
              "    </tr>\n",
              "    <tr>\n",
              "      <th>3</th>\n",
              "      <td>3</td>\n",
              "      <td>O</td>\n",
              "      <td>7</td>\n",
              "      <td>660.952381</td>\n",
              "      <td>663.333333</td>\n",
              "      <td>59.029597</td>\n",
              "      <td>113.649634</td>\n",
              "      <td>117.981601</td>\n",
              "      <td>13</td>\n",
              "      <td>0.928571</td>\n",
              "      <td>...</td>\n",
              "      <td>0.157149</td>\n",
              "      <td>0.284</td>\n",
              "      <td>0.419043</td>\n",
              "      <td>0.070674</td>\n",
              "      <td>0.026236</td>\n",
              "      <td>0.015264</td>\n",
              "      <td>0.594278</td>\n",
              "      <td>0.025686</td>\n",
              "      <td>0.256</td>\n",
              "      <td>0.128</td>\n",
              "    </tr>\n",
              "    <tr>\n",
              "      <th>4</th>\n",
              "      <td>4</td>\n",
              "      <td>O</td>\n",
              "      <td>5</td>\n",
              "      <td>660.476191</td>\n",
              "      <td>663.333333</td>\n",
              "      <td>55.759820</td>\n",
              "      <td>107.623910</td>\n",
              "      <td>111.732026</td>\n",
              "      <td>13</td>\n",
              "      <td>0.928571</td>\n",
              "      <td>...</td>\n",
              "      <td>0.162662</td>\n",
              "      <td>0.204</td>\n",
              "      <td>0.354123</td>\n",
              "      <td>0.072988</td>\n",
              "      <td>0.025833</td>\n",
              "      <td>0.014326</td>\n",
              "      <td>0.657085</td>\n",
              "      <td>0.021802</td>\n",
              "      <td>0.328</td>\n",
              "      <td>0.128</td>\n",
              "    </tr>\n",
              "  </tbody>\n",
              "</table>\n",
              "<p>5 rows × 171 columns</p>\n",
              "</div>\n",
              "      <button class=\"colab-df-convert\" onclick=\"convertToInteractive('df-c12717ff-cf06-4e8e-96d9-4cf942f151c6')\"\n",
              "              title=\"Convert this dataframe to an interactive table.\"\n",
              "              style=\"display:none;\">\n",
              "        \n",
              "  <svg xmlns=\"http://www.w3.org/2000/svg\" height=\"24px\"viewBox=\"0 0 24 24\"\n",
              "       width=\"24px\">\n",
              "    <path d=\"M0 0h24v24H0V0z\" fill=\"none\"/>\n",
              "    <path d=\"M18.56 5.44l.94 2.06.94-2.06 2.06-.94-2.06-.94-.94-2.06-.94 2.06-2.06.94zm-11 1L8.5 8.5l.94-2.06 2.06-.94-2.06-.94L8.5 2.5l-.94 2.06-2.06.94zm10 10l.94 2.06.94-2.06 2.06-.94-2.06-.94-.94-2.06-.94 2.06-2.06.94z\"/><path d=\"M17.41 7.96l-1.37-1.37c-.4-.4-.92-.59-1.43-.59-.52 0-1.04.2-1.43.59L10.3 9.45l-7.72 7.72c-.78.78-.78 2.05 0 2.83L4 21.41c.39.39.9.59 1.41.59.51 0 1.02-.2 1.41-.59l7.78-7.78 2.81-2.81c.8-.78.8-2.07 0-2.86zM5.41 20L4 18.59l7.72-7.72 1.47 1.35L5.41 20z\"/>\n",
              "  </svg>\n",
              "      </button>\n",
              "      \n",
              "  <style>\n",
              "    .colab-df-container {\n",
              "      display:flex;\n",
              "      flex-wrap:wrap;\n",
              "      gap: 12px;\n",
              "    }\n",
              "\n",
              "    .colab-df-convert {\n",
              "      background-color: #E8F0FE;\n",
              "      border: none;\n",
              "      border-radius: 50%;\n",
              "      cursor: pointer;\n",
              "      display: none;\n",
              "      fill: #1967D2;\n",
              "      height: 32px;\n",
              "      padding: 0 0 0 0;\n",
              "      width: 32px;\n",
              "    }\n",
              "\n",
              "    .colab-df-convert:hover {\n",
              "      background-color: #E2EBFA;\n",
              "      box-shadow: 0px 1px 2px rgba(60, 64, 67, 0.3), 0px 1px 3px 1px rgba(60, 64, 67, 0.15);\n",
              "      fill: #174EA6;\n",
              "    }\n",
              "\n",
              "    [theme=dark] .colab-df-convert {\n",
              "      background-color: #3B4455;\n",
              "      fill: #D2E3FC;\n",
              "    }\n",
              "\n",
              "    [theme=dark] .colab-df-convert:hover {\n",
              "      background-color: #434B5C;\n",
              "      box-shadow: 0px 1px 3px 1px rgba(0, 0, 0, 0.15);\n",
              "      filter: drop-shadow(0px 1px 2px rgba(0, 0, 0, 0.3));\n",
              "      fill: #FFFFFF;\n",
              "    }\n",
              "  </style>\n",
              "\n",
              "      <script>\n",
              "        const buttonEl =\n",
              "          document.querySelector('#df-c12717ff-cf06-4e8e-96d9-4cf942f151c6 button.colab-df-convert');\n",
              "        buttonEl.style.display =\n",
              "          google.colab.kernel.accessAllowed ? 'block' : 'none';\n",
              "\n",
              "        async function convertToInteractive(key) {\n",
              "          const element = document.querySelector('#df-c12717ff-cf06-4e8e-96d9-4cf942f151c6');\n",
              "          const dataTable =\n",
              "            await google.colab.kernel.invokeFunction('convertToInteractive',\n",
              "                                                     [key], {});\n",
              "          if (!dataTable) return;\n",
              "\n",
              "          const docLinkHtml = 'Like what you see? Visit the ' +\n",
              "            '<a target=\"_blank\" href=https://colab.research.google.com/notebooks/data_table.ipynb>data table notebook</a>'\n",
              "            + ' to learn more about interactive tables.';\n",
              "          element.innerHTML = '';\n",
              "          dataTable['output_type'] = 'display_data';\n",
              "          await google.colab.output.renderOutput(dataTable, element);\n",
              "          const docLink = document.createElement('div');\n",
              "          docLink.innerHTML = docLinkHtml;\n",
              "          element.appendChild(docLink);\n",
              "        }\n",
              "      </script>\n",
              "    </div>\n",
              "  </div>\n",
              "  "
            ]
          },
          "metadata": {},
          "execution_count": 2
        }
      ]
    },
    {
      "cell_type": "code",
      "source": [
        "class_counts = df['label'].value_counts()\n",
        "print(class_counts)"
      ],
      "metadata": {
        "colab": {
          "base_uri": "https://localhost:8080/"
        },
        "id": "sa-kwHyfdbc8",
        "outputId": "f5145ee5-5558-4a09-baca-6e18ea94235a"
      },
      "execution_count": 3,
      "outputs": [
        {
          "output_type": "stream",
          "name": "stdout",
          "text": [
            "N    5992\n",
            "O    3151\n",
            "A     923\n",
            "~     187\n",
            "Name: label, dtype: int64\n"
          ]
        }
      ]
    },
    {
      "cell_type": "code",
      "source": [
        "plt.bar(class_counts.index, class_counts.values)\n",
        "plt.xlabel('Class')\n",
        "plt.ylabel('Count')\n",
        "plt.title('Data Distribution by Class')\n",
        "plt.show()"
      ],
      "metadata": {
        "colab": {
          "base_uri": "https://localhost:8080/",
          "height": 472
        },
        "id": "WXC8YpGudjAR",
        "outputId": "67344936-3cef-4da7-ba2d-85585a091091"
      },
      "execution_count": 4,
      "outputs": [
        {
          "output_type": "display_data",
          "data": {
            "text/plain": [
              "<Figure size 640x480 with 1 Axes>"
            ],
            "image/png": "[encoded data removed]"
          },
          "metadata": {}
        }
      ]
    },
    {
      "cell_type": "markdown",
      "source": [
        "**Train MLP with 4 hidden layer - no preprocess**"
      ],
      "metadata": {
        "id": "V4kFSug5ecb2"
      }
    },
    {
      "cell_type": "code",
      "source": [
        "# Map class labels to integers\n",
        "label_mapping = {'A': 0, 'N': 1, 'O': 2, '~': 3}\n",
        "df['label'] = df['label'].map(label_mapping)\n",
        "\n",
        "df = df.iloc[:, 1:]\n",
        "df.head()\n"
      ],
      "metadata": {
        "colab": {
          "base_uri": "https://localhost:8080/",
          "height": 299
        },
        "id": "oAGOqPF6eayl",
        "outputId": "aacabb25-ecdd-45ac-a28e-46ec817a9863"
      },
      "execution_count": 5,
      "outputs": [
        {
          "output_type": "execute_result",
          "data": {
            "text/plain": [
              "   label  feat1       feat2       feat3      feat4       feat5       feat6  \\\n",
              "0      2      5  661.190476  658.333333  55.278736  106.962730  111.113889   \n",
              "1      2      5  661.666667  658.333333  56.579873  108.407273  112.510209   \n",
              "2      2      8  661.904762  660.000000  58.758004  112.796617  117.091412   \n",
              "3      2      7  660.952381  663.333333  59.029597  113.649634  117.981601   \n",
              "4      2      5  660.476191  663.333333  55.759820  107.623910  111.732026   \n",
              "\n",
              "   feat7     feat8  feat9  ...   feat160  feat161   feat162   feat163  \\\n",
              "0     13  0.928571  0.041  ...  0.165551    0.196  0.321645  0.074160   \n",
              "1     13  0.928571  0.150  ...  0.190431    0.196  0.362420  0.085271   \n",
              "2     13  0.928571  0.041  ...  0.094497    0.316  0.376645  0.042448   \n",
              "3     13  0.928571  0.041  ...  0.157149    0.284  0.419043  0.070674   \n",
              "4     13  0.928571  0.041  ...  0.162662    0.204  0.354123  0.072988   \n",
              "\n",
              "    feat164   feat165   feat166   feat167  feat168  feat169  \n",
              "0  0.000000  0.000000  0.000000  0.019540    0.340    0.000  \n",
              "1  0.000000  0.000000  0.000000  0.022238    0.332    0.000  \n",
              "2  0.000000  0.000000  0.000000  0.023166    0.452    0.000  \n",
              "3  0.026236  0.015264  0.594278  0.025686    0.256    0.128  \n",
              "4  0.025833  0.014326  0.657085  0.021802    0.328    0.128  \n",
              "\n",
              "[5 rows x 170 columns]"
            ],
            "text/html": [
              "\n",
              "  <div id=\"df-b99a83ed-196a-4e74-964c-3fb093782ecd\">\n",
              "    <div class=\"colab-df-container\">\n",
              "      <div>\n",
              "<style scoped>\n",
              "    .dataframe tbody tr th:only-of-type {\n",
              "        vertical-align: middle;\n",
              "    }\n",
              "\n",
              "    .dataframe tbody tr th {\n",
              "        vertical-align: top;\n",
              "    }\n",
              "\n",
              "    .dataframe thead th {\n",
              "        text-align: right;\n",
              "    }\n",
              "</style>\n",
              "<table border=\"1\" class=\"dataframe\">\n",
              "  <thead>\n",
              "    <tr style=\"text-align: right;\">\n",
              "      <th></th>\n",
              "      <th>label</th>\n",
              "      <th>feat1</th>\n",
              "      <th>feat2</th>\n",
              "      <th>feat3</th>\n",
              "      <th>feat4</th>\n",
              "      <th>feat5</th>\n",
              "      <th>feat6</th>\n",
              "      <th>feat7</th>\n",
              "      <th>feat8</th>\n",
              "      <th>feat9</th>\n",
              "      <th>...</th>\n",
              "      <th>feat160</th>\n",
              "      <th>feat161</th>\n",
              "      <th>feat162</th>\n",
              "      <th>feat163</th>\n",
              "      <th>feat164</th>\n",
              "      <th>feat165</th>\n",
              "      <th>feat166</th>\n",
              "      <th>feat167</th>\n",
              "      <th>feat168</th>\n",
              "      <th>feat169</th>\n",
              "    </tr>\n",
              "  </thead>\n",
              "  <tbody>\n",
              "    <tr>\n",
              "      <th>0</th>\n",
              "      <td>2</td>\n",
              "      <td>5</td>\n",
              "      <td>661.190476</td>\n",
              "      <td>658.333333</td>\n",
              "      <td>55.278736</td>\n",
              "      <td>106.962730</td>\n",
              "      <td>111.113889</td>\n",
              "      <td>13</td>\n",
              "      <td>0.928571</td>\n",
              "      <td>0.041</td>\n",
              "      <td>...</td>\n",
              "      <td>0.165551</td>\n",
              "      <td>0.196</td>\n",
              "      <td>0.321645</td>\n",
              "      <td>0.074160</td>\n",
              "      <td>0.000000</td>\n",
              "      <td>0.000000</td>\n",
              "      <td>0.000000</td>\n",
              "      <td>0.019540</td>\n",
              "      <td>0.340</td>\n",
              "      <td>0.000</td>\n",
              "    </tr>\n",
              "    <tr>\n",
              "      <th>1</th>\n",
              "      <td>2</td>\n",
              "      <td>5</td>\n",
              "      <td>661.666667</td>\n",
              "      <td>658.333333</td>\n",
              "      <td>56.579873</td>\n",
              "      <td>108.407273</td>\n",
              "      <td>112.510209</td>\n",
              "      <td>13</td>\n",
              "      <td>0.928571</td>\n",
              "      <td>0.150</td>\n",
              "      <td>...</td>\n",
              "      <td>0.190431</td>\n",
              "      <td>0.196</td>\n",
              "      <td>0.362420</td>\n",
              "      <td>0.085271</td>\n",
              "      <td>0.000000</td>\n",
              "      <td>0.000000</td>\n",
              "      <td>0.000000</td>\n",
              "      <td>0.022238</td>\n",
              "      <td>0.332</td>\n",
              "      <td>0.000</td>\n",
              "    </tr>\n",
              "    <tr>\n",
              "      <th>2</th>\n",
              "      <td>2</td>\n",
              "      <td>8</td>\n",
              "      <td>661.904762</td>\n",
              "      <td>660.000000</td>\n",
              "      <td>58.758004</td>\n",
              "      <td>112.796617</td>\n",
              "      <td>117.091412</td>\n",
              "      <td>13</td>\n",
              "      <td>0.928571</td>\n",
              "      <td>0.041</td>\n",
              "      <td>...</td>\n",
              "      <td>0.094497</td>\n",
              "      <td>0.316</td>\n",
              "      <td>0.376645</td>\n",
              "      <td>0.042448</td>\n",
              "      <td>0.000000</td>\n",
              "      <td>0.000000</td>\n",
              "      <td>0.000000</td>\n",
              "      <td>0.023166</td>\n",
              "      <td>0.452</td>\n",
              "      <td>0.000</td>\n",
              "    </tr>\n",
              "    <tr>\n",
              "      <th>3</th>\n",
              "      <td>2</td>\n",
              "      <td>7</td>\n",
              "      <td>660.952381</td>\n",
              "      <td>663.333333</td>\n",
              "      <td>59.029597</td>\n",
              "      <td>113.649634</td>\n",
              "      <td>117.981601</td>\n",
              "      <td>13</td>\n",
              "      <td>0.928571</td>\n",
              "      <td>0.041</td>\n",
              "      <td>...</td>\n",
              "      <td>0.157149</td>\n",
              "      <td>0.284</td>\n",
              "      <td>0.419043</td>\n",
              "      <td>0.070674</td>\n",
              "      <td>0.026236</td>\n",
              "      <td>0.015264</td>\n",
              "      <td>0.594278</td>\n",
              "      <td>0.025686</td>\n",
              "      <td>0.256</td>\n",
              "      <td>0.128</td>\n",
              "    </tr>\n",
              "    <tr>\n",
              "      <th>4</th>\n",
              "      <td>2</td>\n",
              "      <td>5</td>\n",
              "      <td>660.476191</td>\n",
              "      <td>663.333333</td>\n",
              "      <td>55.759820</td>\n",
              "      <td>107.623910</td>\n",
              "      <td>111.732026</td>\n",
              "      <td>13</td>\n",
              "      <td>0.928571</td>\n",
              "      <td>0.041</td>\n",
              "      <td>...</td>\n",
              "      <td>0.162662</td>\n",
              "      <td>0.204</td>\n",
              "      <td>0.354123</td>\n",
              "      <td>0.072988</td>\n",
              "      <td>0.025833</td>\n",
              "      <td>0.014326</td>\n",
              "      <td>0.657085</td>\n",
              "      <td>0.021802</td>\n",
              "      <td>0.328</td>\n",
              "      <td>0.128</td>\n",
              "    </tr>\n",
              "  </tbody>\n",
              "</table>\n",
              "<p>5 rows × 170 columns</p>\n",
              "</div>\n",
              "      <button class=\"colab-df-convert\" onclick=\"convertToInteractive('df-b99a83ed-196a-4e74-964c-3fb093782ecd')\"\n",
              "              title=\"Convert this dataframe to an interactive table.\"\n",
              "              style=\"display:none;\">\n",
              "        \n",
              "  <svg xmlns=\"http://www.w3.org/2000/svg\" height=\"24px\"viewBox=\"0 0 24 24\"\n",
              "       width=\"24px\">\n",
              "    <path d=\"M0 0h24v24H0V0z\" fill=\"none\"/>\n",
              "    <path d=\"M18.56 5.44l.94 2.06.94-2.06 2.06-.94-2.06-.94-.94-2.06-.94 2.06-2.06.94zm-11 1L8.5 8.5l.94-2.06 2.06-.94-2.06-.94L8.5 2.5l-.94 2.06-2.06.94zm10 10l.94 2.06.94-2.06 2.06-.94-2.06-.94-.94-2.06-.94 2.06-2.06.94z\"/><path d=\"M17.41 7.96l-1.37-1.37c-.4-.4-.92-.59-1.43-.59-.52 0-1.04.2-1.43.59L10.3 9.45l-7.72 7.72c-.78.78-.78 2.05 0 2.83L4 21.41c.39.39.9.59 1.41.59.51 0 1.02-.2 1.41-.59l7.78-7.78 2.81-2.81c.8-.78.8-2.07 0-2.86zM5.41 20L4 18.59l7.72-7.72 1.47 1.35L5.41 20z\"/>\n",
              "  </svg>\n",
              "      </button>\n",
              "      \n",
              "  <style>\n",
              "    .colab-df-container {\n",
              "      display:flex;\n",
              "      flex-wrap:wrap;\n",
              "      gap: 12px;\n",
              "    }\n",
              "\n",
              "    .colab-df-convert {\n",
              "      background-color: #E8F0FE;\n",
              "      border: none;\n",
              "      border-radius: 50%;\n",
              "      cursor: pointer;\n",
              "      display: none;\n",
              "      fill: #1967D2;\n",
              "      height: 32px;\n",
              "      padding: 0 0 0 0;\n",
              "      width: 32px;\n",
              "    }\n",
              "\n",
              "    .colab-df-convert:hover {\n",
              "      background-color: #E2EBFA;\n",
              "      box-shadow: 0px 1px 2px rgba(60, 64, 67, 0.3), 0px 1px 3px 1px rgba(60, 64, 67, 0.15);\n",
              "      fill: #174EA6;\n",
              "    }\n",
              "\n",
              "    [theme=dark] .colab-df-convert {\n",
              "      background-color: #3B4455;\n",
              "      fill: #D2E3FC;\n",
              "    }\n",
              "\n",
              "    [theme=dark] .colab-df-convert:hover {\n",
              "      background-color: #434B5C;\n",
              "      box-shadow: 0px 1px 3px 1px rgba(0, 0, 0, 0.15);\n",
              "      filter: drop-shadow(0px 1px 2px rgba(0, 0, 0, 0.3));\n",
              "      fill: #FFFFFF;\n",
              "    }\n",
              "  </style>\n",
              "\n",
              "      <script>\n",
              "        const buttonEl =\n",
              "          document.querySelector('#df-b99a83ed-196a-4e74-964c-3fb093782ecd button.colab-df-convert');\n",
              "        buttonEl.style.display =\n",
              "          google.colab.kernel.accessAllowed ? 'block' : 'none';\n",
              "\n",
              "        async function convertToInteractive(key) {\n",
              "          const element = document.querySelector('#df-b99a83ed-196a-4e74-964c-3fb093782ecd');\n",
              "          const dataTable =\n",
              "            await google.colab.kernel.invokeFunction('convertToInteractive',\n",
              "                                                     [key], {});\n",
              "          if (!dataTable) return;\n",
              "\n",
              "          const docLinkHtml = 'Like what you see? Visit the ' +\n",
              "            '<a target=\"_blank\" href=https://colab.research.google.com/notebooks/data_table.ipynb>data table notebook</a>'\n",
              "            + ' to learn more about interactive tables.';\n",
              "          element.innerHTML = '';\n",
              "          dataTable['output_type'] = 'display_data';\n",
              "          await google.colab.output.renderOutput(dataTable, element);\n",
              "          const docLink = document.createElement('div');\n",
              "          docLink.innerHTML = docLinkHtml;\n",
              "          element.appendChild(docLink);\n",
              "        }\n",
              "      </script>\n",
              "    </div>\n",
              "  </div>\n",
              "  "
            ]
          },
          "metadata": {},
          "execution_count": 5
        }
      ]
    },
    {
      "cell_type": "code",
      "source": [
        "# Split the data into features (X) and labels (y)\n",
        "X = df.iloc[:, 1:]  # Extract all columns except the 'label'\n",
        "y = df['label']\n",
        "\n",
        "# Split \n",
        "X_train, X_test, y_train, y_test = train_test_split(X, y, test_size=0.1, random_state=42)"
      ],
      "metadata": {
        "id": "LAfBegwHf3wU"
      },
      "execution_count": 6,
      "outputs": []
    },
    {
      "cell_type": "code",
      "source": [
        "# Convert data to numpy arrays\n",
        "X_train = X_train.values\n",
        "X_test = X_test.values\n",
        "y_train = tf.keras.utils.to_categorical(y_train, num_classes=4)\n",
        "y_test = tf.keras.utils.to_categorical(y_test, num_classes=4)"
      ],
      "metadata": {
        "id": "G1jQuhske7Um"
      },
      "execution_count": 7,
      "outputs": []
    },
    {
      "cell_type": "code",
      "source": [
        "# Create a sequential model\n",
        "model = tf.keras.models.Sequential([\n",
        "    tf.keras.layers.Dense(100, activation='relu', input_shape=(169,)),\n",
        "    tf.keras.layers.Dense(100, activation='relu'),\n",
        "    tf.keras.layers.Dense(100, activation='relu'),\n",
        "    tf.keras.layers.Dense(100, activation='relu'),\n",
        "    tf.keras.layers.Dense(4, activation='softmax')\n",
        "])"
      ],
      "metadata": {
        "id": "oadAbF_vgs-U"
      },
      "execution_count": 8,
      "outputs": []
    },
    {
      "cell_type": "code",
      "source": [
        "# Compile\n",
        "model.compile(optimizer='adam', loss='categorical_crossentropy', metrics=['accuracy'])"
      ],
      "metadata": {
        "id": "3m1wCfTffkQ7"
      },
      "execution_count": 9,
      "outputs": []
    },
    {
      "cell_type": "code",
      "source": [
        "# Train the model\n",
        "History = model.fit(X_train, y_train, epochs=20, batch_size=32, verbose=1)"
      ],
      "metadata": {
        "colab": {
          "base_uri": "https://localhost:8080/"
        },
        "id": "clxEU-w3fp1T",
        "outputId": "d4311bb3-1bd9-4264-ee66-ac6d0522bfc8"
      },
      "execution_count": 10,
      "outputs": [
        {
          "output_type": "stream",
          "name": "stdout",
          "text": [
            "Epoch 1/20\n",
            "289/289 [==============================] - 2s 2ms/step - loss: 123.3784 - accuracy: 0.5632\n",
            "Epoch 2/20\n",
            "289/289 [==============================] - 1s 2ms/step - loss: 49.4965 - accuracy: 0.6016\n",
            "Epoch 3/20\n",
            "289/289 [==============================] - 1s 2ms/step - loss: 34.5637 - accuracy: 0.6251\n",
            "Epoch 4/20\n",
            "289/289 [==============================] - 1s 2ms/step - loss: 35.0872 - accuracy: 0.6128\n",
            "Epoch 5/20\n",
            "289/289 [==============================] - 1s 2ms/step - loss: 28.5801 - accuracy: 0.6220\n",
            "Epoch 6/20\n",
            "289/289 [==============================] - 1s 2ms/step - loss: 8.2910 - accuracy: 0.6616\n",
            "Epoch 7/20\n",
            "289/289 [==============================] - 1s 2ms/step - loss: 6.1606 - accuracy: 0.6503\n",
            "Epoch 8/20\n",
            "289/289 [==============================] - 1s 3ms/step - loss: 2.2565 - accuracy: 0.6640\n",
            "Epoch 9/20\n",
            "289/289 [==============================] - 1s 4ms/step - loss: 0.8607 - accuracy: 0.6499\n",
            "Epoch 10/20\n",
            "289/289 [==============================] - 1s 3ms/step - loss: 0.7133 - accuracy: 0.7074\n",
            "Epoch 11/20\n",
            "289/289 [==============================] - 1s 3ms/step - loss: 0.7104 - accuracy: 0.7047\n",
            "Epoch 12/20\n",
            "289/289 [==============================] - 1s 2ms/step - loss: 0.7017 - accuracy: 0.7093\n",
            "Epoch 13/20\n",
            "289/289 [==============================] - 1s 2ms/step - loss: 0.6886 - accuracy: 0.7151\n",
            "Epoch 14/20\n",
            "289/289 [==============================] - 1s 2ms/step - loss: 0.6939 - accuracy: 0.7151\n",
            "Epoch 15/20\n",
            "289/289 [==============================] - 1s 2ms/step - loss: 0.6924 - accuracy: 0.7116\n",
            "Epoch 16/20\n",
            "289/289 [==============================] - 1s 2ms/step - loss: 0.6919 - accuracy: 0.7224\n",
            "Epoch 17/20\n",
            "289/289 [==============================] - 1s 2ms/step - loss: 0.6793 - accuracy: 0.7235\n",
            "Epoch 18/20\n",
            "289/289 [==============================] - 1s 2ms/step - loss: 0.6712 - accuracy: 0.7297\n",
            "Epoch 19/20\n",
            "289/289 [==============================] - 1s 2ms/step - loss: 0.6866 - accuracy: 0.7256\n",
            "Epoch 20/20\n",
            "289/289 [==============================] - 1s 2ms/step - loss: 0.6582 - accuracy: 0.7318\n"
          ]
        }
      ]
    },
    {
      "cell_type": "code",
      "source": [
        "# Plot the training loss\n",
        "plt.figure(figsize=(8, 6))\n",
        "plt.plot(History.history['loss'])\n",
        "plt.title('Model Training Loss - No preprocess')\n",
        "plt.xlabel('Epochs')\n",
        "plt.ylabel('Loss')\n",
        "plt.show()\n",
        "\n",
        "# Plot the training accuracy\n",
        "plt.figure(figsize=(8, 6))\n",
        "plt.plot(History.history['accuracy'])\n",
        "plt.title('Model Training Accuracy - No Preprocess')\n",
        "plt.xlabel('Epochs')\n",
        "plt.ylabel('Accuracy')\n",
        "plt.show()"
      ],
      "metadata": {
        "colab": {
          "base_uri": "https://localhost:8080/",
          "height": 1000
        },
        "id": "CdiSrGPAjP2W",
        "outputId": "c5ad5dfd-2ca0-4b31-fd6d-a9703c30b6c4"
      },
      "execution_count": 11,
      "outputs": [
        {
          "output_type": "display_data",
          "data": {
            "text/plain": [
              "<Figure size 800x600 with 1 Axes>"
            ],
            "image/png": "[encoded data removed]"
          },
          "metadata": {}
        },
        {
          "output_type": "display_data",
          "data": {
            "text/plain": [
              "<Figure size 800x600 with 1 Axes>"
            ],
            "image/png": "[encoded data removed]"
          },
          "metadata": {}
        }
      ]
    },
    {
      "cell_type": "code",
      "source": [
        "# Make predictions on the test data\n",
        "y_pred = model.predict(X_test)\n",
        "y_pred_classes = np.argmax(y_pred, axis=1)\n",
        "\n",
        "# Convert one-hot encoded labels to integers\n",
        "y_test_classes = np.argmax(y_test, axis=1)"
      ],
      "metadata": {
        "colab": {
          "base_uri": "https://localhost:8080/"
        },
        "id": "ALAVjtYkftx1",
        "outputId": "a50db227-f99f-4101-fde4-7310be4828cb"
      },
      "execution_count": 12,
      "outputs": [
        {
          "output_type": "stream",
          "name": "stdout",
          "text": [
            "33/33 [==============================] - 0s 1ms/step\n"
          ]
        }
      ]
    },
    {
      "cell_type": "code",
      "source": [
        "# Calculate evaluation metrics\n",
        "precision = precision_score(y_test_classes, y_pred_classes, average='weighted')\n",
        "recall = recall_score(y_test_classes, y_pred_classes, average='weighted')\n",
        "f1score = f1_score(y_test_classes, y_pred_classes, average='weighted')\n",
        "confusion = confusion_matrix(y_test_classes, y_pred_classes)\n",
        "\n",
        "# Print the evaluation metrics and confusion matrix\n",
        "print(f\"Precision: {precision:.4f}\")\n",
        "print(f\"Recall: {recall:.4f}\")\n",
        "print(f\"F1-Score: {f1score:.4f}\")\n",
        "print(\"Confusion Matrix:\")\n",
        "print(confusion)\n"
      ],
      "metadata": {
        "colab": {
          "base_uri": "https://localhost:8080/"
        },
        "id": "IW7TDOKdhGnZ",
        "outputId": "5df73269-9584-4a28-fa2c-0f18e179d997"
      },
      "execution_count": 13,
      "outputs": [
        {
          "output_type": "stream",
          "name": "stdout",
          "text": [
            "Precision: 0.7019\n",
            "Recall: 0.7203\n",
            "F1-Score: 0.7063\n",
            "Confusion Matrix:\n",
            "[[ 34  11  53   0]\n",
            " [  7 513  69   1]\n",
            " [ 12 117 192   0]\n",
            " [  1   3  13   0]]\n"
          ]
        }
      ]
    },
    {
      "cell_type": "code",
      "source": [
        "# Get the diagonal elements (true positive predictions)\n",
        "TP_0 = confusion[0][0]\n",
        "TP_1 = confusion[1][1]\n",
        "TP_2 = confusion[2][2]\n",
        "TP_3 = confusion[3][3]\n",
        "\n",
        "# Calculate the total number of instances for each class\n",
        "total_0 = sum(confusion[0])\n",
        "total_1 = sum(confusion[1])\n",
        "total_2 = sum(confusion[2])\n",
        "total_3 = sum(confusion[3])\n",
        "\n",
        "# Calculate the accuracy for each class\n",
        "accuracy_0 = TP_0 / total_0\n",
        "accuracy_1 = TP_1 / total_1\n",
        "accuracy_2 = TP_2 / total_2\n",
        "accuracy_3 = TP_3 / total_3\n",
        "\n",
        "# Print the accuracy for each class\n",
        "print(f\"Accuracy for class 0: {accuracy_0:.4f}\")\n",
        "print(f\"Accuracy for class 1: {accuracy_1:.4f}\")\n",
        "print(f\"Accuracy for class 2: {accuracy_2:.4f}\")\n",
        "print(f\"Accuracy for class 3: {accuracy_3:.4f}\")"
      ],
      "metadata": {
        "colab": {
          "base_uri": "https://localhost:8080/"
        },
        "id": "GNjF6u38hQxH",
        "outputId": "e1787639-5250-41df-e355-25542afbe6c7"
      },
      "execution_count": 14,
      "outputs": [
        {
          "output_type": "stream",
          "name": "stdout",
          "text": [
            "Accuracy for class 0: 0.3469\n",
            "Accuracy for class 1: 0.8695\n",
            "Accuracy for class 2: 0.5981\n",
            "Accuracy for class 3: 0.0000\n"
          ]
        }
      ]
    },
    {
      "cell_type": "markdown",
      "source": [
        "**Train On normalized Dataset**"
      ],
      "metadata": {
        "id": "QECbry6Eh-A4"
      }
    },
    {
      "cell_type": "code",
      "source": [
        "# Normalize the feature data using standard normalization\n",
        "scaler = StandardScaler()\n",
        "X = scaler.fit_transform(X)\n",
        "\n",
        "# Split the data into training and test sets\n",
        "X_train, X_test, y_train, y_test = train_test_split(X, y, test_size=0.1, random_state=42)\n",
        "\n",
        "# Convert data to numpy arrays\n",
        "X_train = np.array(X_train)\n",
        "X_test = np.array(X_test)\n",
        "y_train = tf.keras.utils.to_categorical(y_train, num_classes=4)\n",
        "y_test = tf.keras.utils.to_categorical(y_test, num_classes=4)"
      ],
      "metadata": {
        "id": "cqnDKUnlh3aS"
      },
      "execution_count": 15,
      "outputs": []
    },
    {
      "cell_type": "code",
      "source": [
        "# Create a sequential model\n",
        "model = tf.keras.models.Sequential([\n",
        "    tf.keras.layers.Dense(100, activation='relu', input_shape=(169,)),\n",
        "    tf.keras.layers.Dense(100, activation='relu'),\n",
        "    tf.keras.layers.Dense(100, activation='relu'),\n",
        "    tf.keras.layers.Dense(100, activation='relu'),\n",
        "    tf.keras.layers.Dense(4, activation='softmax')\n",
        "])"
      ],
      "metadata": {
        "id": "DSLcaRyChQzp"
      },
      "execution_count": 16,
      "outputs": []
    },
    {
      "cell_type": "code",
      "source": [
        "# Compile the model\n",
        "model.compile(optimizer='adam', loss='categorical_crossentropy', metrics=['accuracy'])\n",
        "\n",
        "# Train the model\n",
        "History = model.fit(X_train, y_train, epochs=20, batch_size=32, verbose=1)"
      ],
      "metadata": {
        "colab": {
          "base_uri": "https://localhost:8080/"
        },
        "id": "314O8uWMilWe",
        "outputId": "fb1f545a-1ed7-4f14-d29c-662132469301"
      },
      "execution_count": 17,
      "outputs": [
        {
          "output_type": "stream",
          "name": "stdout",
          "text": [
            "Epoch 1/20\n",
            "289/289 [==============================] - 2s 2ms/step - loss: 0.5789 - accuracy: 0.7672\n",
            "Epoch 2/20\n",
            "289/289 [==============================] - 1s 2ms/step - loss: 0.4528 - accuracy: 0.8231\n",
            "Epoch 3/20\n",
            "289/289 [==============================] - 1s 2ms/step - loss: 0.3948 - accuracy: 0.8477\n",
            "Epoch 4/20\n",
            "289/289 [==============================] - 1s 2ms/step - loss: 0.3425 - accuracy: 0.8657\n",
            "Epoch 5/20\n",
            "289/289 [==============================] - 1s 2ms/step - loss: 0.3120 - accuracy: 0.8799\n",
            "Epoch 6/20\n",
            "289/289 [==============================] - 1s 2ms/step - loss: 0.2750 - accuracy: 0.8916\n",
            "Epoch 7/20\n",
            "289/289 [==============================] - 1s 3ms/step - loss: 0.2431 - accuracy: 0.9061\n",
            "Epoch 8/20\n",
            "289/289 [==============================] - 1s 3ms/step - loss: 0.2094 - accuracy: 0.9193\n",
            "Epoch 9/20\n",
            "289/289 [==============================] - 1s 3ms/step - loss: 0.1834 - accuracy: 0.9298\n",
            "Epoch 10/20\n",
            "289/289 [==============================] - 1s 2ms/step - loss: 0.1577 - accuracy: 0.9422\n",
            "Epoch 11/20\n",
            "289/289 [==============================] - 1s 2ms/step - loss: 0.1475 - accuracy: 0.9445\n",
            "Epoch 12/20\n",
            "289/289 [==============================] - 1s 2ms/step - loss: 0.1386 - accuracy: 0.9472\n",
            "Epoch 13/20\n",
            "289/289 [==============================] - 1s 2ms/step - loss: 0.1150 - accuracy: 0.9563\n",
            "Epoch 14/20\n",
            "289/289 [==============================] - 1s 2ms/step - loss: 0.1066 - accuracy: 0.9616\n",
            "Epoch 15/20\n",
            "289/289 [==============================] - 1s 2ms/step - loss: 0.0797 - accuracy: 0.9729\n",
            "Epoch 16/20\n",
            "289/289 [==============================] - 1s 2ms/step - loss: 0.0713 - accuracy: 0.9754\n",
            "Epoch 17/20\n",
            "289/289 [==============================] - 1s 2ms/step - loss: 0.0781 - accuracy: 0.9717\n",
            "Epoch 18/20\n",
            "289/289 [==============================] - 1s 2ms/step - loss: 0.0735 - accuracy: 0.9730\n",
            "Epoch 19/20\n",
            "289/289 [==============================] - 1s 2ms/step - loss: 0.0740 - accuracy: 0.9729\n",
            "Epoch 20/20\n",
            "289/289 [==============================] - 1s 2ms/step - loss: 0.0604 - accuracy: 0.9801\n"
          ]
        }
      ]
    },
    {
      "cell_type": "code",
      "source": [
        "# Plot the training loss\n",
        "plt.figure(figsize=(8, 6))\n",
        "plt.plot(History.history['loss'])\n",
        "plt.title('Model Training Loss - Normalized')\n",
        "plt.xlabel('Epochs')\n",
        "plt.ylabel('Loss')\n",
        "plt.show()\n",
        "\n",
        "# Plot the training accuracy\n",
        "plt.figure(figsize=(8, 6))\n",
        "plt.plot(History.history['accuracy'])\n",
        "plt.title('Model Training Accuracy - Normalized')\n",
        "plt.xlabel('Epochs')\n",
        "plt.ylabel('Accuracy')\n",
        "plt.show()"
      ],
      "metadata": {
        "colab": {
          "base_uri": "https://localhost:8080/",
          "height": 1000
        },
        "id": "vsS-7gxgjHLG",
        "outputId": "409f0704-fb72-4fd1-9500-df82b1c94eca"
      },
      "execution_count": 18,
      "outputs": [
        {
          "output_type": "display_data",
          "data": {
            "text/plain": [
              "<Figure size 800x600 with 1 Axes>"
            ],
            "image/png": "[encoded data removed]"
          },
          "metadata": {}
        },
        {
          "output_type": "display_data",
          "data": {
            "text/plain": [
              "<Figure size 800x600 with 1 Axes>"
            ],
            "image/png": "[encoded data removed]"
          },
          "metadata": {}
        }
      ]
    },
    {
      "cell_type": "code",
      "source": [
        "# Make predictions on the test data\n",
        "y_pred = model.predict(X_test)\n",
        "y_pred_classes = np.argmax(y_pred, axis=1)\n",
        "\n",
        "# Convert one-hot encoded labels to integers\n",
        "y_test_classes = np.argmax(y_test, axis=1)"
      ],
      "metadata": {
        "colab": {
          "base_uri": "https://localhost:8080/"
        },
        "id": "nKQ2tTBxisRb",
        "outputId": "7cadf80b-9b65-40f6-93c3-34051943ddad"
      },
      "execution_count": 19,
      "outputs": [
        {
          "output_type": "stream",
          "name": "stdout",
          "text": [
            "33/33 [==============================] - 0s 1ms/step\n"
          ]
        }
      ]
    },
    {
      "cell_type": "code",
      "source": [
        "# Calculate evaluation metrics\n",
        "precision = precision_score(y_test_classes, y_pred_classes, average='weighted')\n",
        "recall = recall_score(y_test_classes, y_pred_classes, average='weighted')\n",
        "f1score = f1_score(y_test_classes, y_pred_classes, average='weighted')\n",
        "confusion = confusion_matrix(y_test_classes, y_pred_classes)\n",
        "\n",
        "# Print the evaluation metrics and confusion matrix\n",
        "print(f\"Precision: {precision:.4f}\")\n",
        "print(f\"Recall: {recall:.4f}\")\n",
        "print(f\"F1-Score: {f1score:.4f}\")\n",
        "print(\"Confusion Matrix:\")\n",
        "print(confusion)"
      ],
      "metadata": {
        "colab": {
          "base_uri": "https://localhost:8080/"
        },
        "id": "4YU-9KIDi4O_",
        "outputId": "1acf76c5-6b66-48fd-df55-901eaf3171bd"
      },
      "execution_count": 20,
      "outputs": [
        {
          "output_type": "stream",
          "name": "stdout",
          "text": [
            "Precision: 0.8454\n",
            "Recall: 0.8333\n",
            "F1-Score: 0.8368\n",
            "Confusion Matrix:\n",
            "[[ 79   3  13   3]\n",
            " [  4 497  81   8]\n",
            " [  2  41 273   5]\n",
            " [  0   6   5   6]]\n"
          ]
        }
      ]
    },
    {
      "cell_type": "code",
      "source": [
        "# Get the diagonal elements (true positive predictions)\n",
        "TP_0 = confusion[0][0]\n",
        "TP_1 = confusion[1][1]\n",
        "TP_2 = confusion[2][2]\n",
        "TP_3 = confusion[3][3]\n",
        "\n",
        "# Calculate the total number of instances for each class\n",
        "total_0 = sum(confusion[0])\n",
        "total_1 = sum(confusion[1])\n",
        "total_2 = sum(confusion[2])\n",
        "total_3 = sum(confusion[3])\n",
        "\n",
        "# Calculate the accuracy for each class\n",
        "accuracy_0 = TP_0 / total_0\n",
        "accuracy_1 = TP_1 / total_1\n",
        "accuracy_2 = TP_2 / total_2\n",
        "accuracy_3 = TP_3 / total_3\n",
        "\n",
        "# Print the accuracy for each class\n",
        "print(f\"Accuracy for class 0: {accuracy_0:.4f}\")\n",
        "print(f\"Accuracy for class 1: {accuracy_1:.4f}\")\n",
        "print(f\"Accuracy for class 2: {accuracy_2:.4f}\")\n",
        "print(f\"Accuracy for class 3: {accuracy_3:.4f}\")"
      ],
      "metadata": {
        "colab": {
          "base_uri": "https://localhost:8080/"
        },
        "id": "5uEkBLZahYnC",
        "outputId": "94044e4a-f194-4963-e729-6040cf3ec413"
      },
      "execution_count": 21,
      "outputs": [
        {
          "output_type": "stream",
          "name": "stdout",
          "text": [
            "Accuracy for class 0: 0.8061\n",
            "Accuracy for class 1: 0.8424\n",
            "Accuracy for class 2: 0.8505\n",
            "Accuracy for class 3: 0.3529\n"
          ]
        }
      ]
    },
    {
      "cell_type": "markdown",
      "source": [
        "**2 Class - Normal ab Normal**"
      ],
      "metadata": {
        "id": "JeKAcRDIkHQp"
      }
    },
    {
      "cell_type": "code",
      "source": [
        "df = pd.read_csv('ECG.csv')\n",
        "\n",
        "df_filtered = df[df['label'].isin(['N', 'O', 'A'])]\n",
        "\n",
        "# Map class labels to integers\n",
        "label_mapping = {'N': 0, 'O': 1, 'A': 1}\n",
        "df_filtered['label'] = df_filtered['label'].map(label_mapping)\n",
        "\n",
        "\n",
        "df_filtered = df_filtered.iloc[:, 1:]\n",
        "\n",
        "df_filtered.head()"
      ],
      "metadata": {
        "colab": {
          "base_uri": "https://localhost:8080/",
          "height": 403
        },
        "id": "2N93ChvOi6kR",
        "outputId": "3a3738e5-4ad8-407d-a496-dd7e25a8aca7"
      },
      "execution_count": null,
      "outputs": [
        {
          "output_type": "stream",
          "name": "stderr",
          "text": [
            "<ipython-input-21-c2e36c42c992>:7: SettingWithCopyWarning: \n",
            "A value is trying to be set on a copy of a slice from a DataFrame.\n",
            "Try using .loc[row_indexer,col_indexer] = value instead\n",
            "\n",
            "See the caveats in the documentation: https://pandas.pydata.org/pandas-docs/stable/user_guide/indexing.html#returning-a-view-versus-a-copy\n",
            "  df_filtered['label'] = df_filtered['label'].map(label_mapping)\n"
          ]
        },
        {
          "output_type": "execute_result",
          "data": {
            "text/plain": [
              "   label  feat1       feat2       feat3      feat4       feat5       feat6  \\\n",
              "0      1      5  661.190476  658.333333  55.278736  106.962730  111.113889   \n",
              "1      1      5  661.666667  658.333333  56.579873  108.407273  112.510209   \n",
              "2      1      8  661.904762  660.000000  58.758004  112.796617  117.091412   \n",
              "3      1      7  660.952381  663.333333  59.029597  113.649634  117.981601   \n",
              "4      1      5  660.476191  663.333333  55.759820  107.623910  111.732026   \n",
              "\n",
              "   feat7     feat8  feat9  ...   feat160  feat161   feat162   feat163  \\\n",
              "0     13  0.928571  0.041  ...  0.165551    0.196  0.321645  0.074160   \n",
              "1     13  0.928571  0.150  ...  0.190431    0.196  0.362420  0.085271   \n",
              "2     13  0.928571  0.041  ...  0.094497    0.316  0.376645  0.042448   \n",
              "3     13  0.928571  0.041  ...  0.157149    0.284  0.419043  0.070674   \n",
              "4     13  0.928571  0.041  ...  0.162662    0.204  0.354123  0.072988   \n",
              "\n",
              "    feat164   feat165   feat166   feat167  feat168  feat169  \n",
              "0  0.000000  0.000000  0.000000  0.019540    0.340    0.000  \n",
              "1  0.000000  0.000000  0.000000  0.022238    0.332    0.000  \n",
              "2  0.000000  0.000000  0.000000  0.023166    0.452    0.000  \n",
              "3  0.026236  0.015264  0.594278  0.025686    0.256    0.128  \n",
              "4  0.025833  0.014326  0.657085  0.021802    0.328    0.128  \n",
              "\n",
              "[5 rows x 170 columns]"
            ],
            "text/html": [
              "\n",
              "  <div id=\"df-16eda5c2-07ea-49a4-bbd7-a50f698679eb\">\n",
              "    <div class=\"colab-df-container\">\n",
              "      <div>\n",
              "<style scoped>\n",
              "    .dataframe tbody tr th:only-of-type {\n",
              "        vertical-align: middle;\n",
              "    }\n",
              "\n",
              "    .dataframe tbody tr th {\n",
              "        vertical-align: top;\n",
              "    }\n",
              "\n",
              "    .dataframe thead th {\n",
              "        text-align: right;\n",
              "    }\n",
              "</style>\n",
              "<table border=\"1\" class=\"dataframe\">\n",
              "  <thead>\n",
              "    <tr style=\"text-align: right;\">\n",
              "      <th></th>\n",
              "      <th>label</th>\n",
              "      <th>feat1</th>\n",
              "      <th>feat2</th>\n",
              "      <th>feat3</th>\n",
              "      <th>feat4</th>\n",
              "      <th>feat5</th>\n",
              "      <th>feat6</th>\n",
              "      <th>feat7</th>\n",
              "      <th>feat8</th>\n",
              "      <th>feat9</th>\n",
              "      <th>...</th>\n",
              "      <th>feat160</th>\n",
              "      <th>feat161</th>\n",
              "      <th>feat162</th>\n",
              "      <th>feat163</th>\n",
              "      <th>feat164</th>\n",
              "      <th>feat165</th>\n",
              "      <th>feat166</th>\n",
              "      <th>feat167</th>\n",
              "      <th>feat168</th>\n",
              "      <th>feat169</th>\n",
              "    </tr>\n",
              "  </thead>\n",
              "  <tbody>\n",
              "    <tr>\n",
              "      <th>0</th>\n",
              "      <td>1</td>\n",
              "      <td>5</td>\n",
              "      <td>661.190476</td>\n",
              "      <td>658.333333</td>\n",
              "      <td>55.278736</td>\n",
              "      <td>106.962730</td>\n",
              "      <td>111.113889</td>\n",
              "      <td>13</td>\n",
              "      <td>0.928571</td>\n",
              "      <td>0.041</td>\n",
              "      <td>...</td>\n",
              "      <td>0.165551</td>\n",
              "      <td>0.196</td>\n",
              "      <td>0.321645</td>\n",
              "      <td>0.074160</td>\n",
              "      <td>0.000000</td>\n",
              "      <td>0.000000</td>\n",
              "      <td>0.000000</td>\n",
              "      <td>0.019540</td>\n",
              "      <td>0.340</td>\n",
              "      <td>0.000</td>\n",
              "    </tr>\n",
              "    <tr>\n",
              "      <th>1</th>\n",
              "      <td>1</td>\n",
              "      <td>5</td>\n",
              "      <td>661.666667</td>\n",
              "      <td>658.333333</td>\n",
              "      <td>56.579873</td>\n",
              "      <td>108.407273</td>\n",
              "      <td>112.510209</td>\n",
              "      <td>13</td>\n",
              "      <td>0.928571</td>\n",
              "      <td>0.150</td>\n",
              "      <td>...</td>\n",
              "      <td>0.190431</td>\n",
              "      <td>0.196</td>\n",
              "      <td>0.362420</td>\n",
              "      <td>0.085271</td>\n",
              "      <td>0.000000</td>\n",
              "      <td>0.000000</td>\n",
              "      <td>0.000000</td>\n",
              "      <td>0.022238</td>\n",
              "      <td>0.332</td>\n",
              "      <td>0.000</td>\n",
              "    </tr>\n",
              "    <tr>\n",
              "      <th>2</th>\n",
              "      <td>1</td>\n",
              "      <td>8</td>\n",
              "      <td>661.904762</td>\n",
              "      <td>660.000000</td>\n",
              "      <td>58.758004</td>\n",
              "      <td>112.796617</td>\n",
              "      <td>117.091412</td>\n",
              "      <td>13</td>\n",
              "      <td>0.928571</td>\n",
              "      <td>0.041</td>\n",
              "      <td>...</td>\n",
              "      <td>0.094497</td>\n",
              "      <td>0.316</td>\n",
              "      <td>0.376645</td>\n",
              "      <td>0.042448</td>\n",
              "      <td>0.000000</td>\n",
              "      <td>0.000000</td>\n",
              "      <td>0.000000</td>\n",
              "      <td>0.023166</td>\n",
              "      <td>0.452</td>\n",
              "      <td>0.000</td>\n",
              "    </tr>\n",
              "    <tr>\n",
              "      <th>3</th>\n",
              "      <td>1</td>\n",
              "      <td>7</td>\n",
              "      <td>660.952381</td>\n",
              "      <td>663.333333</td>\n",
              "      <td>59.029597</td>\n",
              "      <td>113.649634</td>\n",
              "      <td>117.981601</td>\n",
              "      <td>13</td>\n",
              "      <td>0.928571</td>\n",
              "      <td>0.041</td>\n",
              "      <td>...</td>\n",
              "      <td>0.157149</td>\n",
              "      <td>0.284</td>\n",
              "      <td>0.419043</td>\n",
              "      <td>0.070674</td>\n",
              "      <td>0.026236</td>\n",
              "      <td>0.015264</td>\n",
              "      <td>0.594278</td>\n",
              "      <td>0.025686</td>\n",
              "      <td>0.256</td>\n",
              "      <td>0.128</td>\n",
              "    </tr>\n",
              "    <tr>\n",
              "      <th>4</th>\n",
              "      <td>1</td>\n",
              "      <td>5</td>\n",
              "      <td>660.476191</td>\n",
              "      <td>663.333333</td>\n",
              "      <td>55.759820</td>\n",
              "      <td>107.623910</td>\n",
              "      <td>111.732026</td>\n",
              "      <td>13</td>\n",
              "      <td>0.928571</td>\n",
              "      <td>0.041</td>\n",
              "      <td>...</td>\n",
              "      <td>0.162662</td>\n",
              "      <td>0.204</td>\n",
              "      <td>0.354123</td>\n",
              "      <td>0.072988</td>\n",
              "      <td>0.025833</td>\n",
              "      <td>0.014326</td>\n",
              "      <td>0.657085</td>\n",
              "      <td>0.021802</td>\n",
              "      <td>0.328</td>\n",
              "      <td>0.128</td>\n",
              "    </tr>\n",
              "  </tbody>\n",
              "</table>\n",
              "<p>5 rows × 170 columns</p>\n",
              "</div>\n",
              "      <button class=\"colab-df-convert\" onclick=\"convertToInteractive('df-16eda5c2-07ea-49a4-bbd7-a50f698679eb')\"\n",
              "              title=\"Convert this dataframe to an interactive table.\"\n",
              "              style=\"display:none;\">\n",
              "        \n",
              "  <svg xmlns=\"http://www.w3.org/2000/svg\" height=\"24px\"viewBox=\"0 0 24 24\"\n",
              "       width=\"24px\">\n",
              "    <path d=\"M0 0h24v24H0V0z\" fill=\"none\"/>\n",
              "    <path d=\"M18.56 5.44l.94 2.06.94-2.06 2.06-.94-2.06-.94-.94-2.06-.94 2.06-2.06.94zm-11 1L8.5 8.5l.94-2.06 2.06-.94-2.06-.94L8.5 2.5l-.94 2.06-2.06.94zm10 10l.94 2.06.94-2.06 2.06-.94-2.06-.94-.94-2.06-.94 2.06-2.06.94z\"/><path d=\"M17.41 7.96l-1.37-1.37c-.4-.4-.92-.59-1.43-.59-.52 0-1.04.2-1.43.59L10.3 9.45l-7.72 7.72c-.78.78-.78 2.05 0 2.83L4 21.41c.39.39.9.59 1.41.59.51 0 1.02-.2 1.41-.59l7.78-7.78 2.81-2.81c.8-.78.8-2.07 0-2.86zM5.41 20L4 18.59l7.72-7.72 1.47 1.35L5.41 20z\"/>\n",
              "  </svg>\n",
              "      </button>\n",
              "      \n",
              "  <style>\n",
              "    .colab-df-container {\n",
              "      display:flex;\n",
              "      flex-wrap:wrap;\n",
              "      gap: 12px;\n",
              "    }\n",
              "\n",
              "    .colab-df-convert {\n",
              "      background-color: #E8F0FE;\n",
              "      border: none;\n",
              "      border-radius: 50%;\n",
              "      cursor: pointer;\n",
              "      display: none;\n",
              "      fill: #1967D2;\n",
              "      height: 32px;\n",
              "      padding: 0 0 0 0;\n",
              "      width: 32px;\n",
              "    }\n",
              "\n",
              "    .colab-df-convert:hover {\n",
              "      background-color: #E2EBFA;\n",
              "      box-shadow: 0px 1px 2px rgba(60, 64, 67, 0.3), 0px 1px 3px 1px rgba(60, 64, 67, 0.15);\n",
              "      fill: #174EA6;\n",
              "    }\n",
              "\n",
              "    [theme=dark] .colab-df-convert {\n",
              "      background-color: #3B4455;\n",
              "      fill: #D2E3FC;\n",
              "    }\n",
              "\n",
              "    [theme=dark] .colab-df-convert:hover {\n",
              "      background-color: #434B5C;\n",
              "      box-shadow: 0px 1px 3px 1px rgba(0, 0, 0, 0.15);\n",
              "      filter: drop-shadow(0px 1px 2px rgba(0, 0, 0, 0.3));\n",
              "      fill: #FFFFFF;\n",
              "    }\n",
              "  </style>\n",
              "\n",
              "      <script>\n",
              "        const buttonEl =\n",
              "          document.querySelector('#df-16eda5c2-07ea-49a4-bbd7-a50f698679eb button.colab-df-convert');\n",
              "        buttonEl.style.display =\n",
              "          google.colab.kernel.accessAllowed ? 'block' : 'none';\n",
              "\n",
              "        async function convertToInteractive(key) {\n",
              "          const element = document.querySelector('#df-16eda5c2-07ea-49a4-bbd7-a50f698679eb');\n",
              "          const dataTable =\n",
              "            await google.colab.kernel.invokeFunction('convertToInteractive',\n",
              "                                                     [key], {});\n",
              "          if (!dataTable) return;\n",
              "\n",
              "          const docLinkHtml = 'Like what you see? Visit the ' +\n",
              "            '<a target=\"_blank\" href=https://colab.research.google.com/notebooks/data_table.ipynb>data table notebook</a>'\n",
              "            + ' to learn more about interactive tables.';\n",
              "          element.innerHTML = '';\n",
              "          dataTable['output_type'] = 'display_data';\n",
              "          await google.colab.output.renderOutput(dataTable, element);\n",
              "          const docLink = document.createElement('div');\n",
              "          docLink.innerHTML = docLinkHtml;\n",
              "          element.appendChild(docLink);\n",
              "        }\n",
              "      </script>\n",
              "    </div>\n",
              "  </div>\n",
              "  "
            ]
          },
          "metadata": {},
          "execution_count": 21
        }
      ]
    },
    {
      "cell_type": "code",
      "source": [
        "\n",
        "X = df_filtered.iloc[:, 1:]  # Extract all columns except the 'label'\n",
        "y = df_filtered['label']\n",
        "\n",
        "\n",
        "scaler = StandardScaler()\n",
        "X = scaler.fit_transform(X)\n",
        "\n",
        "X_train, X_test, y_train, y_test = train_test_split(X, y, test_size=0.1, random_state=42)\n",
        "\n",
        "\n",
        "X_train = np.array(X_train)\n",
        "X_test = np.array(X_test)\n",
        "y_train = tf.keras.utils.to_categorical(y_train, num_classes=2)\n",
        "y_test = tf.keras.utils.to_categorical(y_test, num_classes=2)"
      ],
      "metadata": {
        "id": "jXmeA4kklTHM"
      },
      "execution_count": null,
      "outputs": []
    },
    {
      "cell_type": "code",
      "source": [
        "# Create a sequential model for binary classification\n",
        "model = tf.keras.models.Sequential([\n",
        "    tf.keras.layers.Dense(100, activation='relu', input_shape=(169,)),\n",
        "    tf.keras.layers.Dense(100, activation='relu'),\n",
        "    tf.keras.layers.Dense(100, activation='relu'),\n",
        "    tf.keras.layers.Dense(100, activation='relu'),\n",
        "    tf.keras.layers.Dense(2, activation='softmax')\n",
        "])"
      ],
      "metadata": {
        "id": "DD_TyT0jlbL4"
      },
      "execution_count": null,
      "outputs": []
    },
    {
      "cell_type": "code",
      "source": [
        "# Compile the model\n",
        "model.compile(optimizer='adam', loss='categorical_crossentropy', metrics=['accuracy'])\n",
        "\n",
        "# Train the model\n",
        "History = model.fit(X_train, y_train, epochs=20, batch_size=32, verbose=1)"
      ],
      "metadata": {
        "colab": {
          "base_uri": "https://localhost:8080/"
        },
        "id": "RjBHAX_blhU3",
        "outputId": "2c44130c-dfdb-4fc4-8448-da5af77464b2"
      },
      "execution_count": null,
      "outputs": [
        {
          "output_type": "stream",
          "name": "stdout",
          "text": [
            "Epoch 1/20\n",
            "284/284 [==============================] - 6s 4ms/step - loss: 0.4109 - accuracy: 0.8218\n",
            "Epoch 2/20\n",
            "284/284 [==============================] - 1s 2ms/step - loss: 0.3284 - accuracy: 0.8616\n",
            "Epoch 3/20\n",
            "284/284 [==============================] - 1s 2ms/step - loss: 0.2908 - accuracy: 0.8838\n",
            "Epoch 4/20\n",
            "284/284 [==============================] - 1s 2ms/step - loss: 0.2608 - accuracy: 0.8960\n",
            "Epoch 5/20\n",
            "284/284 [==============================] - 1s 2ms/step - loss: 0.2265 - accuracy: 0.9080\n",
            "Epoch 6/20\n",
            "284/284 [==============================] - 1s 2ms/step - loss: 0.1953 - accuracy: 0.9246\n",
            "Epoch 7/20\n",
            "284/284 [==============================] - 1s 2ms/step - loss: 0.1758 - accuracy: 0.9291\n",
            "Epoch 8/20\n",
            "284/284 [==============================] - 1s 2ms/step - loss: 0.1446 - accuracy: 0.9428\n",
            "Epoch 9/20\n",
            "284/284 [==============================] - 1s 2ms/step - loss: 0.1335 - accuracy: 0.9470\n",
            "Epoch 10/20\n",
            "284/284 [==============================] - 1s 2ms/step - loss: 0.1178 - accuracy: 0.9551\n",
            "Epoch 11/20\n",
            "284/284 [==============================] - 1s 2ms/step - loss: 0.0924 - accuracy: 0.9635\n",
            "Epoch 12/20\n",
            "284/284 [==============================] - 1s 3ms/step - loss: 0.1059 - accuracy: 0.9597\n",
            "Epoch 13/20\n",
            "284/284 [==============================] - 1s 4ms/step - loss: 0.0856 - accuracy: 0.9688\n",
            "Epoch 14/20\n",
            "284/284 [==============================] - 1s 4ms/step - loss: 0.0812 - accuracy: 0.9713\n",
            "Epoch 15/20\n",
            "284/284 [==============================] - 1s 2ms/step - loss: 0.0630 - accuracy: 0.9765\n",
            "Epoch 16/20\n",
            "284/284 [==============================] - 1s 2ms/step - loss: 0.0527 - accuracy: 0.9813\n",
            "Epoch 17/20\n",
            "284/284 [==============================] - 1s 2ms/step - loss: 0.0446 - accuracy: 0.9839\n",
            "Epoch 18/20\n",
            "284/284 [==============================] - 1s 2ms/step - loss: 0.0421 - accuracy: 0.9851\n",
            "Epoch 19/20\n",
            "284/284 [==============================] - 1s 2ms/step - loss: 0.0563 - accuracy: 0.9795\n",
            "Epoch 20/20\n",
            "284/284 [==============================] - 1s 2ms/step - loss: 0.0340 - accuracy: 0.9894\n"
          ]
        }
      ]
    },
    {
      "cell_type": "code",
      "source": [
        "# Plot the training loss\n",
        "plt.figure(figsize=(8, 6))\n",
        "plt.plot(History.history['loss'])\n",
        "plt.title('Model Training Loss - Binary Normal abnormal')\n",
        "plt.xlabel('Epochs')\n",
        "plt.ylabel('Loss')\n",
        "plt.show()\n",
        "\n",
        "# Plot the training accuracy\n",
        "plt.figure(figsize=(8, 6))\n",
        "plt.plot(History.history['accuracy'])\n",
        "plt.title('Model Training Accuracy - Binary Normal abnormal')\n",
        "plt.xlabel('Epochs')\n",
        "plt.ylabel('Accuracy')\n",
        "plt.show()"
      ],
      "metadata": {
        "colab": {
          "base_uri": "https://localhost:8080/",
          "height": 1000
        },
        "id": "olxQE7selnla",
        "outputId": "a410a2bc-9569-4c69-bce7-e299da862cb4"
      },
      "execution_count": null,
      "outputs": [
        {
          "output_type": "display_data",
          "data": {
            "text/plain": [
              "<Figure size 800x600 with 1 Axes>"
            ],
            "image/png": "[encoded data removed]"
          },
          "metadata": {}
        },
        {
          "output_type": "display_data",
          "data": {
            "text/plain": [
              "<Figure size 800x600 with 1 Axes>"
            ],
            "image/png": "[encoded data removed]"
          },
          "metadata": {}
        }
      ]
    },
    {
      "cell_type": "code",
      "source": [
        "\n",
        "y_pred = model.predict(X_test)\n",
        "y_pred_classes = np.argmax(y_pred, axis=1)\n",
        "\n",
        "\n",
        "y_test_classes = np.argmax(y_test, axis=1)"
      ],
      "metadata": {
        "colab": {
          "base_uri": "https://localhost:8080/"
        },
        "id": "16gu9Pqil10R",
        "outputId": "3454c0e2-d803-48c4-fb29-adab01290356"
      },
      "execution_count": null,
      "outputs": [
        {
          "output_type": "stream",
          "name": "stdout",
          "text": [
            "32/32 [==============================] - 0s 1ms/step\n"
          ]
        }
      ]
    },
    {
      "cell_type": "code",
      "source": [
        "precision = precision_score(y_test_classes, y_pred_classes)\n",
        "recall = recall_score(y_test_classes, y_pred_classes)\n",
        "f1score = f1_score(y_test_classes, y_pred_classes)\n",
        "confusion = confusion_matrix(y_test_classes, y_pred_classes)\n",
        "print(f\"Precision: {precision:.4f}\")\n",
        "print(f\"Recall: {recall:.4f}\")\n",
        "print(f\"F1-Score: {f1score:.4f}\")\n",
        "print(\"Confusion Matrix:\")\n",
        "print(confusion)"
      ],
      "metadata": {
        "colab": {
          "base_uri": "https://localhost:8080/"
        },
        "id": "Q8sdARWml6o_",
        "outputId": "0cb42ed3-f67a-477e-eccc-0fdd6998f3b9"
      },
      "execution_count": null,
      "outputs": [
        {
          "output_type": "stream",
          "name": "stdout",
          "text": [
            "Precision: 0.9292\n",
            "Recall: 0.8221\n",
            "F1-Score: 0.8723\n",
            "Confusion Matrix:\n",
            "[[583  25]\n",
            " [ 71 328]]\n"
          ]
        }
      ]
    },
    {
      "cell_type": "code",
      "source": [],
      "metadata": {
        "id": "sc2JokCPl-fs"
      },
      "execution_count": null,
      "outputs": []
    }
  ]
}