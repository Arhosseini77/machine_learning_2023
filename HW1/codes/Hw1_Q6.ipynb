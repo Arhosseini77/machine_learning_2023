{
  "nbformat": 4,
  "nbformat_minor": 0,
  "metadata": {
    "colab": {
      "provenance": []
    },
    "kernelspec": {
      "name": "python3",
      "display_name": "Python 3"
    },
    "language_info": {
      "name": "python"
    }
  },
  "cells": [
    {
      "cell_type": "code",
      "execution_count": null,
      "metadata": {
        "id": "WXiFNt9Udhf4",
        "colab": {
          "base_uri": "https://localhost:8080/"
        },
        "outputId": "abd4c0a7-e549-4dab-ecfc-3e63117a0e30"
      },
      "outputs": [
        {
          "output_type": "stream",
          "name": "stdout",
          "text": [
            "Archive:  image.zip\n",
            "   creating: image/\n",
            "  inflating: image/j1.jpg            \n",
            "  inflating: image/j10.jpg           \n",
            "  inflating: image/j11.jpg           \n",
            "  inflating: image/j12.jpg           \n",
            "  inflating: image/j13.jpg           \n",
            "  inflating: image/j14.jpg           \n",
            "  inflating: image/j15.jpg           \n",
            "  inflating: image/j16.jpg           \n",
            "  inflating: image/j17.jpg           \n",
            "  inflating: image/j18.jpg           \n",
            "  inflating: image/j19.jpg           \n",
            "  inflating: image/j2.jpg            \n",
            "  inflating: image/j20.jpg           \n",
            "  inflating: image/j21.jpg           \n",
            "  inflating: image/j22.jpg           \n",
            "  inflating: image/j23.jpg           \n",
            "  inflating: image/j24.jpg           \n",
            "  inflating: image/j25.jpg           \n",
            "  inflating: image/j26.jpg           \n",
            "  inflating: image/j27.jpg           \n",
            "  inflating: image/j28.jpg           \n",
            "  inflating: image/j29.jpg           \n",
            "  inflating: image/j3.jpg            \n",
            "  inflating: image/j30.jpg           \n",
            "  inflating: image/j31.jpg           \n",
            "  inflating: image/j32.jpg           \n",
            "  inflating: image/j33.jpg           \n",
            "  inflating: image/j34.jpg           \n",
            "  inflating: image/j35.jpg           \n",
            "  inflating: image/j36.jpg           \n",
            "  inflating: image/j37.jpg           \n",
            "  inflating: image/j38.jpg           \n",
            "  inflating: image/j39.jpg           \n",
            "  inflating: image/j4.jpg            \n",
            "  inflating: image/j40.jpg           \n",
            "  inflating: image/j44.jpg           \n",
            "  inflating: image/j45.jpg           \n",
            "  inflating: image/j5.jpg            \n",
            "  inflating: image/j6.jpg            \n",
            "  inflating: image/j7.jpg            \n",
            "  inflating: image/j8.jpg            \n",
            "  inflating: image/j9.jpg            \n",
            "  inflating: image/s1.jpg            \n",
            "  inflating: image/s10.jpg           \n",
            "  inflating: image/s11.jpg           \n",
            "  inflating: image/s12.jpg           \n",
            "  inflating: image/s13.jpg           \n",
            "  inflating: image/s14.jpg           \n",
            "  inflating: image/s15.jpg           \n",
            "  inflating: image/s16.jpg           \n",
            "  inflating: image/s17.jpg           \n",
            "  inflating: image/s18.jpg           \n",
            "  inflating: image/s19.jpg           \n",
            "  inflating: image/s2.jpg            \n",
            "  inflating: image/s20.jpg           \n",
            "  inflating: image/s21.jpg           \n",
            "  inflating: image/s22.jpg           \n",
            "  inflating: image/s23.jpg           \n",
            "  inflating: image/s24.jpg           \n",
            "  inflating: image/s25.jpg           \n",
            "  inflating: image/s26.jpg           \n",
            "  inflating: image/s27.jpg           \n",
            "  inflating: image/s28.jpg           \n",
            "  inflating: image/s29.jpg           \n",
            "  inflating: image/s3.jpg            \n",
            "  inflating: image/s30.jpg           \n",
            "  inflating: image/s31.jpg           \n",
            "  inflating: image/s32.jpg           \n",
            "  inflating: image/s33.jpg           \n",
            "  inflating: image/s34.jpg           \n",
            "  inflating: image/s35.jpg           \n",
            "  inflating: image/s36.jpg           \n",
            "  inflating: image/s37.jpg           \n",
            "  inflating: image/s38.jpg           \n",
            "  inflating: image/s39.jpg           \n",
            "  inflating: image/s4.jpg            \n",
            "  inflating: image/s40.jpg           \n",
            "  inflating: image/s5.jpg            \n",
            "  inflating: image/s6.jpg            \n",
            "  inflating: image/s7.jpg            \n",
            "  inflating: image/s8.jpg            \n",
            "  inflating: image/s9.jpg            \n"
          ]
        }
      ],
      "source": [
        "!unzip image.zip"
      ]
    },
    {
      "cell_type": "code",
      "source": [
        "# Split data set to train and test and val \n",
        "import os\n",
        "import shutil\n",
        "import random\n",
        "\n",
        "dataset_path = \"./image/\"\n",
        "\n",
        "# Set the path to your train and test directories\n",
        "train_path = \"./train/\"\n",
        "val_path = \"./val/\"\n",
        "test_path = \"./test/\"\n",
        "\n",
        "# Set the train/validation/test split ratios\n",
        "train_split_ratio = 0.8\n",
        "val_split_ratio = 0.1\n",
        "\n",
        "# Check if the train directory exists, and create it if it doesn't\n",
        "if not os.path.exists(train_path):\n",
        "    os.makedirs(train_path)\n",
        "\n",
        "\n",
        "if not os.path.exists(val_path):\n",
        "    os.makedirs(val_path)\n",
        "\n",
        "if not os.path.exists(test_path):\n",
        "    os.makedirs(test_path)\n",
        "\n",
        "\n",
        "image_file_names = os.listdir(dataset_path)\n",
        "\n",
        "# Shuffle the image file names\n",
        "random.shuffle(image_file_names)\n",
        "\n",
        "\n",
        "num_train_images = int(len(image_file_names) * train_split_ratio)\n",
        "num_val_images = int(len(image_file_names) * val_split_ratio)\n",
        "\n",
        "\n",
        "for i in range(num_train_images):\n",
        "    image_file_name = image_file_names[i]\n",
        "    src_path = os.path.join(dataset_path, image_file_name)\n",
        "    dst_path = os.path.join(train_path, image_file_name)\n",
        "    shutil.copyfile(src_path, dst_path)\n",
        "\n",
        "\n",
        "for i in range(num_train_images, num_train_images+num_val_images):\n",
        "    image_file_name = image_file_names[i]\n",
        "    src_path = os.path.join(dataset_path, image_file_name)\n",
        "    dst_path = os.path.join(val_path, image_file_name)\n",
        "    shutil.copyfile(src_path, dst_path)\n",
        "\n",
        "# Move the remaining images to the test directory\n",
        "for i in range(num_train_images+num_val_images, len(image_file_names)):\n",
        "    image_file_name = image_file_names[i]\n",
        "    src_path = os.path.join(dataset_path, image_file_name)\n",
        "    dst_path = os.path.join(test_path, image_file_name)\n",
        "    shutil.copyfile(src_path, dst_path)\n",
        "\n",
        "\n"
      ],
      "metadata": {
        "id": "VSg7wyy1d2_B"
      },
      "execution_count": null,
      "outputs": []
    },
    {
      "cell_type": "code",
      "source": [
        "import os\n",
        "\n",
        "parent_dir = \"./image\"\n",
        "\n",
        "path = []\n",
        "labels =[] \n",
        "\n",
        "for file in os.listdir(parent_dir):\n",
        "    if file.startswith(\"j\"):\n",
        "        label = 0  # Jungle\n",
        "    elif file.startswith(\"s\"):\n",
        "        label = 1  # Sea\n",
        "    else:\n",
        "        continue  \n",
        "    path.append(file)\n",
        "    labels.append(label)\n"
      ],
      "metadata": {
        "id": "NMxIeMfLixPH"
      },
      "execution_count": null,
      "outputs": []
    },
    {
      "cell_type": "code",
      "source": [
        "print(path[0])\n",
        "print(labels[0])\n",
        "\n",
        "print(path[20])\n",
        "print(labels[20])"
      ],
      "metadata": {
        "colab": {
          "base_uri": "https://localhost:8080/"
        },
        "id": "Dw8iy1RskiO0",
        "outputId": "3c3ba12c-6f9a-41f2-a587-c1577af7f148"
      },
      "execution_count": null,
      "outputs": [
        {
          "output_type": "stream",
          "name": "stdout",
          "text": [
            "j31.jpg\n",
            "0\n",
            "s11.jpg\n",
            "1\n"
          ]
        }
      ]
    },
    {
      "cell_type": "code",
      "source": [
        "import cv2\n",
        "import numpy as np\n",
        "from sklearn.model_selection import train_test_split\n",
        "from sklearn.naive_bayes import GaussianNB\n",
        "from sklearn.metrics import confusion_matrix, precision_score, recall_score, accuracy_score"
      ],
      "metadata": {
        "id": "z9nH5Hozlpcd"
      },
      "execution_count": null,
      "outputs": []
    },
    {
      "cell_type": "code",
      "source": [
        "blue_means = []\n",
        "\n",
        "for p in path:\n",
        "    img = cv2.imread('./image/'+ p)\n",
        "    blue_means.append(np.mean(img[:, :, 0])) # blue channel mean value\n"
      ],
      "metadata": {
        "id": "febpzlTYqGTS"
      },
      "execution_count": null,
      "outputs": []
    },
    {
      "cell_type": "code",
      "source": [
        "print(blue_means[0])\n",
        "print(blue_means[20])"
      ],
      "metadata": {
        "colab": {
          "base_uri": "https://localhost:8080/"
        },
        "id": "tXCkFujlqK-L",
        "outputId": "3d26e577-ffd0-4726-f845-0f3f367ac216"
      },
      "execution_count": null,
      "outputs": [
        {
          "output_type": "stream",
          "name": "stdout",
          "text": [
            "21.519413904849003\n",
            "213.6633227597145\n"
          ]
        }
      ]
    },
    {
      "cell_type": "code",
      "source": [
        "# Define the Bayesian classifier function\n",
        "def bayesian_classifier(values, labels, threshold):\n",
        "    predictions = []\n",
        "    for value in values:\n",
        "        if value > threshold:\n",
        "            predictions.append(1)\n",
        "        else:\n",
        "            predictions.append(0)    \n",
        "    accuracy = accuracy_score(labels, predictions)\n",
        "    cm = confusion_matrix(labels, predictions)\n",
        "    precision = precision_score(labels, predictions)\n",
        "    recall = recall_score(labels, predictions)\n",
        "    return accuracy, cm, precision, recall ,  predictions\n",
        "\n",
        "\n",
        "thresholds = np.linspace(0, 255, 256)\n",
        "best_threshold = None\n",
        "best_accuracy = 0\n",
        "for threshold in thresholds:\n",
        "    accuracy, _, _, _ , _ = bayesian_classifier(blue_means, labels, threshold)\n",
        "    if accuracy > best_accuracy:\n",
        "        best_accuracy = accuracy\n",
        "        best_threshold = threshold\n",
        "\n",
        "\n",
        "accuracy, cm, precision, recall , predictions= bayesian_classifier(blue_means, labels, best_threshold)\n",
        "\n",
        "# Print the results\n",
        "print('Optimal Threshold:', best_threshold)\n",
        "print('Accuracy:', accuracy)\n",
        "print('Confusion Matrix:')\n",
        "print(cm)\n",
        "print('Precision:', precision)\n",
        "print('Recall:', recall)"
      ],
      "metadata": {
        "colab": {
          "base_uri": "https://localhost:8080/"
        },
        "id": "EpFrbtECqakW",
        "outputId": "a6a8b131-9503-4c44-8fe1-8fbf019a8681"
      },
      "execution_count": null,
      "outputs": [
        {
          "output_type": "stream",
          "name": "stdout",
          "text": [
            "Optimal Threshold: 112.0\n",
            "Accuracy: 0.926829268292683\n",
            "Confusion Matrix:\n",
            "[[40  2]\n",
            " [ 4 36]]\n",
            "Precision: 0.9473684210526315\n",
            "Recall: 0.9\n"
          ]
        },
        {
          "output_type": "stream",
          "name": "stderr",
          "text": [
            "/usr/local/lib/python3.9/dist-packages/sklearn/metrics/_classification.py:1344: UndefinedMetricWarning: Precision is ill-defined and being set to 0.0 due to no predicted samples. Use `zero_division` parameter to control this behavior.\n",
            "  _warn_prf(average, modifier, msg_start, len(result))\n",
            "/usr/local/lib/python3.9/dist-packages/sklearn/metrics/_classification.py:1344: UndefinedMetricWarning: Precision is ill-defined and being set to 0.0 due to no predicted samples. Use `zero_division` parameter to control this behavior.\n",
            "  _warn_prf(average, modifier, msg_start, len(result))\n",
            "/usr/local/lib/python3.9/dist-packages/sklearn/metrics/_classification.py:1344: UndefinedMetricWarning: Precision is ill-defined and being set to 0.0 due to no predicted samples. Use `zero_division` parameter to control this behavior.\n",
            "  _warn_prf(average, modifier, msg_start, len(result))\n",
            "/usr/local/lib/python3.9/dist-packages/sklearn/metrics/_classification.py:1344: UndefinedMetricWarning: Precision is ill-defined and being set to 0.0 due to no predicted samples. Use `zero_division` parameter to control this behavior.\n",
            "  _warn_prf(average, modifier, msg_start, len(result))\n",
            "/usr/local/lib/python3.9/dist-packages/sklearn/metrics/_classification.py:1344: UndefinedMetricWarning: Precision is ill-defined and being set to 0.0 due to no predicted samples. Use `zero_division` parameter to control this behavior.\n",
            "  _warn_prf(average, modifier, msg_start, len(result))\n",
            "/usr/local/lib/python3.9/dist-packages/sklearn/metrics/_classification.py:1344: UndefinedMetricWarning: Precision is ill-defined and being set to 0.0 due to no predicted samples. Use `zero_division` parameter to control this behavior.\n",
            "  _warn_prf(average, modifier, msg_start, len(result))\n",
            "/usr/local/lib/python3.9/dist-packages/sklearn/metrics/_classification.py:1344: UndefinedMetricWarning: Precision is ill-defined and being set to 0.0 due to no predicted samples. Use `zero_division` parameter to control this behavior.\n",
            "  _warn_prf(average, modifier, msg_start, len(result))\n",
            "/usr/local/lib/python3.9/dist-packages/sklearn/metrics/_classification.py:1344: UndefinedMetricWarning: Precision is ill-defined and being set to 0.0 due to no predicted samples. Use `zero_division` parameter to control this behavior.\n",
            "  _warn_prf(average, modifier, msg_start, len(result))\n",
            "/usr/local/lib/python3.9/dist-packages/sklearn/metrics/_classification.py:1344: UndefinedMetricWarning: Precision is ill-defined and being set to 0.0 due to no predicted samples. Use `zero_division` parameter to control this behavior.\n",
            "  _warn_prf(average, modifier, msg_start, len(result))\n",
            "/usr/local/lib/python3.9/dist-packages/sklearn/metrics/_classification.py:1344: UndefinedMetricWarning: Precision is ill-defined and being set to 0.0 due to no predicted samples. Use `zero_division` parameter to control this behavior.\n",
            "  _warn_prf(average, modifier, msg_start, len(result))\n",
            "/usr/local/lib/python3.9/dist-packages/sklearn/metrics/_classification.py:1344: UndefinedMetricWarning: Precision is ill-defined and being set to 0.0 due to no predicted samples. Use `zero_division` parameter to control this behavior.\n",
            "  _warn_prf(average, modifier, msg_start, len(result))\n"
          ]
        }
      ]
    },
    {
      "cell_type": "code",
      "source": [
        "mismatch_indices = [i for i in range(len(labels)) if labels[i] != predictions[i]]"
      ],
      "metadata": {
        "id": "enKnPPrZxAt4"
      },
      "execution_count": null,
      "outputs": []
    },
    {
      "cell_type": "code",
      "source": [
        "for i in mismatch_indices:\n",
        "  print(path[i])"
      ],
      "metadata": {
        "colab": {
          "base_uri": "https://localhost:8080/"
        },
        "id": "bmezcm1Ox48n",
        "outputId": "890767d2-317d-409a-ae19-7daf4d9d9016"
      },
      "execution_count": null,
      "outputs": [
        {
          "output_type": "stream",
          "name": "stdout",
          "text": [
            "j45.jpg\n",
            "j44.jpg\n",
            "s7.jpg\n",
            "s27.jpg\n",
            "s24.jpg\n",
            "s13.jpg\n"
          ]
        }
      ]
    },
    {
      "cell_type": "code",
      "source": [
        "import matplotlib.pyplot as plt\n",
        "\n",
        "# Create a figure\n",
        "fig, ax = plt.subplots()\n",
        "\n",
        "# Set the x-axis limits\n",
        "ax.set_xlim(0, len(blue_means))\n",
        "\n",
        "# Plot the data points\n",
        "ax.scatter(range(len(blue_means)), blue_means, c=labels, cmap='RdYlGn')\n",
        "\n",
        "# Set the axis labels and title\n",
        "ax.set_xlabel('Image index')\n",
        "ax.set_ylabel('Mean blue value')\n",
        "ax.set_title('1D feature map')\n",
        "\n",
        "# Show and save the plot\n",
        "fig.set_size_inches(10, 6)\n",
        "fig.savefig('figure.png', dpi=300, bbox_inches='tight')\n",
        "plt.show()\n",
        "\n"
      ],
      "metadata": {
        "colab": {
          "base_uri": "https://localhost:8080/",
          "height": 404
        },
        "id": "szHtOUEClBRd",
        "outputId": "74ed6b99-3698-4602-b83d-bede031f5dd7"
      },
      "execution_count": null,
      "outputs": [
        {
          "output_type": "display_data",
          "data": {
            "text/plain": [
              "<Figure size 720x432 with 1 Axes>"
            ],
            "image/png": "[encoded data removed]"
          },
          "metadata": {
            "needs_background": "light"
          }
        }
      ]
    },
    {
      "cell_type": "code",
      "source": [],
      "metadata": {
        "id": "-FDfa1kaytAU"
      },
      "execution_count": null,
      "outputs": []
    }
  ]
}